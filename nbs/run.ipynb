{
 "cells": [
  {
   "cell_type": "markdown",
   "id": "1b44551e",
   "metadata": {},
   "source": [
    "# Prepare dataset"
   ]
  },
  {
   "cell_type": "code",
   "execution_count": 1,
   "id": "192895f0",
   "metadata": {},
   "outputs": [],
   "source": [
    "# autoreload your package\n",
    "%load_ext autoreload\n",
    "%autoreload 2"
   ]
  },
  {
   "cell_type": "code",
   "execution_count": 2,
   "id": "1ae72038",
   "metadata": {},
   "outputs": [],
   "source": [
    "import warnings\n",
    "from loguru import logger\n",
    "from tqdm.auto import tqdm\n",
    "# logger.remove()\n",
    "# import sys\n",
    "# logger.add(sys.stderr, level=\"INFO\")"
   ]
  },
  {
   "cell_type": "code",
   "execution_count": 3,
   "id": "198de680",
   "metadata": {
    "ExecuteTime": {
     "end_time": "2022-06-28T02:34:01.879987Z",
     "start_time": "2022-06-28T02:34:01.864103Z"
    }
   },
   "outputs": [
    {
     "data": {
      "text/plain": [
       "ExtractConfig(datasets=('../lie_elicitation_prompts/prompts/templates/UKPLab-liar', 'amazon_polarity', 'glue:sst2', 'super_glue:axg'), datasets_ood=('imdb', 'super_glue:boolq'), model='failspy/Llama-3-8B-Instruct-abliterated', num_shots=2, max_tokens=776, max_examples=301, seed=42, repeats=3)"
      ]
     },
     "execution_count": 3,
     "metadata": {},
     "output_type": "execute_result"
    }
   ],
   "source": [
    "from transformers import AutoModelForCausalLM, AutoTokenizer, BitsAndBytesConfig\n",
    "import torch\n",
    "import pandas as pd\n",
    "import json\n",
    "from pathlib import Path\n",
    "\n",
    "import lie_elicitation_prompts\n",
    "from lie_elicitation_prompts.config import ExtractConfig\n",
    "from lie_elicitation_prompts.helpers.scores import row_choice_ids\n",
    "from lie_elicitation_prompts.prompts.prompt_loading import load_preproc_datasets, load_prompts\n",
    "\n",
    "cfg = ExtractConfig(datasets=(\n",
    "    '../lie_elicitation_prompts/prompts/templates/UKPLab-liar',\n",
    "    \"amazon_polarity\", \"glue:sst2\", \"super_glue:axg\",\n",
    "))\n",
    "cfg\n",
    "# lie_elicitation_prompts/prompts/templates/liar"
   ]
  },
  {
   "cell_type": "markdown",
   "id": "ea1ce98c",
   "metadata": {},
   "source": [
    "## Load text dataset"
   ]
  },
  {
   "cell_type": "code",
   "execution_count": 4,
   "id": "4a85cad2",
   "metadata": {},
   "outputs": [],
   "source": [
    "\n",
    "# # debug\n",
    "# for ds_name in cfg.datasets:\n",
    "#     print(ds_name)\n",
    "#     o = load_prompts(ds_name, num_shots=1, N=2) \n",
    "#     o = list(tqdm(o))\n",
    "#     # print(ds_name, o)\n",
    "#     1/0\n",
    "# pd.DataFrame(o)"
   ]
  },
  {
   "cell_type": "code",
   "execution_count": null,
   "id": "d1aa8f65",
   "metadata": {},
   "outputs": [],
   "source": []
  },
  {
   "cell_type": "code",
   "execution_count": 5,
   "id": "16bf118c",
   "metadata": {},
   "outputs": [],
   "source": [
    "\n",
    "\n",
    "# Ignore UserWarning category\n",
    "# warnings.filterwarnings(\"ignore\", category=UserWarning)\n",
    "warnings.filterwarnings(\"ignore\", message=\"^The groups parameter is ignored by StratifiedShuffleSplit\")\n"
   ]
  },
  {
   "cell_type": "code",
   "execution_count": 6,
   "id": "e987a4d3",
   "metadata": {},
   "outputs": [],
   "source": [
    "# # debug\n",
    "# list(load_prompts(cfg.datasets[0], num_shots=0, N=2))"
   ]
  },
  {
   "cell_type": "code",
   "execution_count": 7,
   "id": "b23e5aa6",
   "metadata": {},
   "outputs": [
    {
     "data": {
      "application/vnd.jupyter.widget-view+json": {
       "model_id": "aaafb533675f498bb00cf844971f2e7b",
       "version_major": 2,
       "version_minor": 0
      },
      "text/plain": [
       "Generating train split: 0 examples [00:00, ? examples/s]"
      ]
     },
     "metadata": {},
     "output_type": "display_data"
    },
    {
     "name": "stderr",
     "output_type": "stream",
     "text": [
      "Repo card metadata block was not found. Setting CardData to empty.\n",
      "\u001b[32m2024-06-15 18:22:04.727\u001b[0m | \u001b[1mINFO    \u001b[0m | \u001b[36mlie_elicitation_prompts.prompts.prompt_loading\u001b[0m:\u001b[36mload_prompts\u001b[0m:\u001b[36m118\u001b[0m - \u001b[1mExtracting 2 variants of each prompt\u001b[0m\n",
      "\u001b[32m2024-06-15 18:22:04.729\u001b[0m | \u001b[1mINFO    \u001b[0m | \u001b[36mlie_elicitation_prompts.prompts.prompt_loading\u001b[0m:\u001b[36mload_prompts\u001b[0m:\u001b[36m133\u001b[0m - \u001b[1mUsing the following pseudo-labels: [0, 1]\u001b[0m\n"
     ]
    },
    {
     "ename": "DatasetGenerationError",
     "evalue": "An error occurred while generating the dataset",
     "output_type": "error",
     "traceback": [
      "\u001b[0;31m---------------------------------------------------------------------------\u001b[0m",
      "\u001b[0;31mKeyError\u001b[0m                                  Traceback (most recent call last)",
      "File \u001b[0;32m/media/wassname/SGIronWolf/projects5/elk/lie_elicitation_prompts/lie_elicitation_prompts/.venv/lib/python3.10/site-packages/datasets/builder.py:1748\u001b[0m, in \u001b[0;36mGeneratorBasedBuilder._prepare_split_single\u001b[0;34m(self, gen_kwargs, fpath, file_format, max_shard_size, split_info, check_duplicate_keys, job_id)\u001b[0m\n\u001b[1;32m   1747\u001b[0m _time \u001b[38;5;241m=\u001b[39m time\u001b[38;5;241m.\u001b[39mtime()\n\u001b[0;32m-> 1748\u001b[0m \u001b[38;5;28;01mfor\u001b[39;00m key, record \u001b[38;5;129;01min\u001b[39;00m generator:\n\u001b[1;32m   1749\u001b[0m     \u001b[38;5;28;01mif\u001b[39;00m max_shard_size \u001b[38;5;129;01mis\u001b[39;00m \u001b[38;5;129;01mnot\u001b[39;00m \u001b[38;5;28;01mNone\u001b[39;00m \u001b[38;5;129;01mand\u001b[39;00m writer\u001b[38;5;241m.\u001b[39m_num_bytes \u001b[38;5;241m>\u001b[39m max_shard_size:\n",
      "File \u001b[0;32m/media/wassname/SGIronWolf/projects5/elk/lie_elicitation_prompts/lie_elicitation_prompts/.venv/lib/python3.10/site-packages/datasets/packaged_modules/generator/generator.py:30\u001b[0m, in \u001b[0;36mGenerator._generate_examples\u001b[0;34m(self, **gen_kwargs)\u001b[0m\n\u001b[1;32m     29\u001b[0m \u001b[38;5;28;01mdef\u001b[39;00m \u001b[38;5;21m_generate_examples\u001b[39m(\u001b[38;5;28mself\u001b[39m, \u001b[38;5;241m*\u001b[39m\u001b[38;5;241m*\u001b[39mgen_kwargs):\n\u001b[0;32m---> 30\u001b[0m     \u001b[38;5;28;01mfor\u001b[39;00m idx, ex \u001b[38;5;129;01min\u001b[39;00m \u001b[38;5;28menumerate\u001b[39m(\u001b[38;5;28mself\u001b[39m\u001b[38;5;241m.\u001b[39mconfig\u001b[38;5;241m.\u001b[39mgenerator(\u001b[38;5;241m*\u001b[39m\u001b[38;5;241m*\u001b[39mgen_kwargs)):\n\u001b[1;32m     31\u001b[0m         \u001b[38;5;28;01myield\u001b[39;00m idx, ex\n",
      "File \u001b[0;32m/media/wassname/SGIronWolf/projects5/elk/lie_elicitation_prompts/lie_elicitation_prompts/lie_elicitation_prompts/prompts/prompt_loading.py:167\u001b[0m, in \u001b[0;36mload_prompts\u001b[0;34m(ds_string, sys_instructions, binarize, num_shots, seed, split_type, template_path, rank, world_size, prompt_sampler, N, M)\u001b[0m\n\u001b[1;32m    165\u001b[0m     \u001b[38;5;28;01mbreak\u001b[39;00m\n\u001b[0;32m--> 167\u001b[0m prompts \u001b[38;5;241m=\u001b[39m \u001b[43m_convert_to_prompts\u001b[49m\u001b[43m(\u001b[49m\n\u001b[1;32m    168\u001b[0m \u001b[43m    \u001b[49m\u001b[43mexample\u001b[49m\u001b[43m,\u001b[49m\n\u001b[1;32m    169\u001b[0m \u001b[43m    \u001b[49m\u001b[43mbinarize\u001b[49m\u001b[38;5;241;43m=\u001b[39;49m\u001b[43mbinarize\u001b[49m\u001b[43m,\u001b[49m\n\u001b[1;32m    170\u001b[0m \u001b[43m    \u001b[49m\u001b[43mlabel_column\u001b[49m\u001b[38;5;241;43m=\u001b[39;49m\u001b[43mlabel_column\u001b[49m\u001b[43m,\u001b[49m\n\u001b[1;32m    171\u001b[0m \u001b[43m    \u001b[49m\u001b[43mlabel_choices\u001b[49m\u001b[38;5;241;43m=\u001b[39;49m\u001b[43mlabel_choices\u001b[49m\u001b[43m,\u001b[49m\u001b[43m  \u001b[49m\u001b[38;5;66;43;03m# type: ignore[arg-type]\u001b[39;49;00m\n\u001b[1;32m    172\u001b[0m \u001b[43m    \u001b[49m\u001b[43mprompter\u001b[49m\u001b[38;5;241;43m=\u001b[39;49m\u001b[43mprompter\u001b[49m\u001b[43m,\u001b[49m\n\u001b[1;32m    173\u001b[0m \u001b[43m    \u001b[49m\u001b[43mrng\u001b[49m\u001b[38;5;241;43m=\u001b[39;49m\u001b[43mrng\u001b[49m\u001b[43m,\u001b[49m\n\u001b[1;32m    174\u001b[0m \u001b[43m    \u001b[49m\u001b[43msys_instructions\u001b[49m\u001b[38;5;241;43m=\u001b[39;49m\u001b[43msys_instructions\u001b[49m\u001b[43m,\u001b[49m\n\u001b[1;32m    175\u001b[0m \u001b[43m    \u001b[49m\u001b[43mfewshot_iter\u001b[49m\u001b[38;5;241;43m=\u001b[39;49m\u001b[43mfewshot_iter\u001b[49m\u001b[43m,\u001b[49m\n\u001b[1;32m    176\u001b[0m \u001b[43m\u001b[49m\u001b[43m)\u001b[49m\n\u001b[1;32m    177\u001b[0m prompts \u001b[38;5;241m=\u001b[39m [{\u001b[38;5;124m'\u001b[39m\u001b[38;5;124mds_string\u001b[39m\u001b[38;5;124m'\u001b[39m: ds_string, \u001b[38;5;124m'\u001b[39m\u001b[38;5;124mexample_i\u001b[39m\u001b[38;5;124m'\u001b[39m:i, \u001b[38;5;241m*\u001b[39m\u001b[38;5;241m*\u001b[39mp} \u001b[38;5;28;01mfor\u001b[39;00m p \u001b[38;5;129;01min\u001b[39;00m prompts]\n",
      "File \u001b[0;32m/media/wassname/SGIronWolf/projects5/elk/lie_elicitation_prompts/lie_elicitation_prompts/lie_elicitation_prompts/prompts/prompt_loading.py:267\u001b[0m, in \u001b[0;36m_convert_to_prompts\u001b[0;34m(example, prompter, binarize, label_column, label_choices, rng, sys_instructions, fewshot_iter)\u001b[0m\n\u001b[1;32m    266\u001b[0m fewshot_examples \u001b[38;5;241m=\u001b[39m \u001b[38;5;28mnext\u001b[39m(fewshot_iter)\n\u001b[0;32m--> 267\u001b[0m fewshot_examples \u001b[38;5;241m=\u001b[39m [cast_example(e)\u001b[38;5;241m.\u001b[39mcopy() \u001b[38;5;28;01mfor\u001b[39;00m e \u001b[38;5;129;01min\u001b[39;00m fewshot_examples]\n\u001b[1;32m    269\u001b[0m \u001b[38;5;28;01mif\u001b[39;00m instructed_to_lie: \n",
      "File \u001b[0;32m/media/wassname/SGIronWolf/projects5/elk/lie_elicitation_prompts/lie_elicitation_prompts/lie_elicitation_prompts/prompts/prompt_loading.py:267\u001b[0m, in \u001b[0;36m<listcomp>\u001b[0;34m(.0)\u001b[0m\n\u001b[1;32m    266\u001b[0m fewshot_examples \u001b[38;5;241m=\u001b[39m \u001b[38;5;28mnext\u001b[39m(fewshot_iter)\n\u001b[0;32m--> 267\u001b[0m fewshot_examples \u001b[38;5;241m=\u001b[39m [\u001b[43mcast_example\u001b[49m\u001b[43m(\u001b[49m\u001b[43me\u001b[49m\u001b[43m)\u001b[49m\u001b[38;5;241m.\u001b[39mcopy() \u001b[38;5;28;01mfor\u001b[39;00m e \u001b[38;5;129;01min\u001b[39;00m fewshot_examples]\n\u001b[1;32m    269\u001b[0m \u001b[38;5;28;01mif\u001b[39;00m instructed_to_lie: \n",
      "File \u001b[0;32m/media/wassname/SGIronWolf/projects5/elk/lie_elicitation_prompts/lie_elicitation_prompts/lie_elicitation_prompts/prompts/prompt_loading.py:199\u001b[0m, in \u001b[0;36mcast_example\u001b[0;34m(e, label_column)\u001b[0m\n\u001b[1;32m    198\u001b[0m \u001b[38;5;28;01mdef\u001b[39;00m \u001b[38;5;21mcast_example\u001b[39m(e, label_column\u001b[38;5;241m=\u001b[39m\u001b[38;5;124m'\u001b[39m\u001b[38;5;124mlabel\u001b[39m\u001b[38;5;124m'\u001b[39m):\n\u001b[0;32m--> 199\u001b[0m     \u001b[38;5;28;01massert\u001b[39;00m \u001b[43me\u001b[49m\u001b[43m[\u001b[49m\u001b[43mlabel_column\u001b[49m\u001b[43m]\u001b[49m\u001b[38;5;241m>\u001b[39m\u001b[38;5;241m=\u001b[39m\u001b[38;5;241m0\u001b[39m\n\u001b[1;32m    200\u001b[0m     \u001b[38;5;28;01massert\u001b[39;00m e[label_column]\u001b[38;5;241m<\u001b[39m\u001b[38;5;241m=\u001b[39m\u001b[38;5;241m1\u001b[39m\n",
      "\u001b[0;31mKeyError\u001b[0m: 'label'",
      "\nThe above exception was the direct cause of the following exception:\n",
      "\u001b[0;31mDatasetGenerationError\u001b[0m                    Traceback (most recent call last)",
      "Cell \u001b[0;32mIn[7], line 2\u001b[0m\n\u001b[1;32m      1\u001b[0m N \u001b[38;5;241m=\u001b[39m cfg\u001b[38;5;241m.\u001b[39mmax_examples\n\u001b[0;32m----> 2\u001b[0m ds_prompts \u001b[38;5;241m=\u001b[39m \u001b[43mload_preproc_datasets\u001b[49m\u001b[43m(\u001b[49m\n\u001b[1;32m      3\u001b[0m \u001b[43m    \u001b[49m\u001b[43mcfg\u001b[49m\u001b[38;5;241;43m.\u001b[39;49m\u001b[43mdatasets\u001b[49m\u001b[43m,\u001b[49m\n\u001b[1;32m      4\u001b[0m \u001b[43m    \u001b[49m\u001b[43mN\u001b[49m\u001b[38;5;241;43m=\u001b[39;49m\u001b[43mN\u001b[49m\u001b[43m,\u001b[49m\n\u001b[1;32m      5\u001b[0m \u001b[43m    \u001b[49m\u001b[43mseed\u001b[49m\u001b[38;5;241;43m=\u001b[39;49m\u001b[43mcfg\u001b[49m\u001b[38;5;241;43m.\u001b[39;49m\u001b[43mseed\u001b[49m\u001b[43m,\u001b[49m\n\u001b[1;32m      6\u001b[0m \u001b[43m    \u001b[49m\u001b[43mnum_shots\u001b[49m\u001b[38;5;241;43m=\u001b[39;49m\u001b[43mcfg\u001b[49m\u001b[38;5;241;43m.\u001b[39;49m\u001b[43mnum_shots\u001b[49m\u001b[43m,\u001b[49m\n\u001b[1;32m      7\u001b[0m \u001b[43m    \u001b[49m\u001b[43mM\u001b[49m\u001b[38;5;241;43m=\u001b[39;49m\u001b[43mcfg\u001b[49m\u001b[38;5;241;43m.\u001b[39;49m\u001b[43mrepeats\u001b[49m\u001b[43m,\u001b[49m\n\u001b[1;32m      8\u001b[0m \u001b[43m)\u001b[49m\n\u001b[1;32m      9\u001b[0m ds_prompts\n",
      "File \u001b[0;32m/media/wassname/SGIronWolf/projects5/elk/lie_elicitation_prompts/lie_elicitation_prompts/lie_elicitation_prompts/prompts/prompt_loading.py:315\u001b[0m, in \u001b[0;36mload_preproc_datasets\u001b[0;34m(dataset_names, N, split_type, seed, num_shots, M)\u001b[0m\n\u001b[1;32m    312\u001b[0m n \u001b[38;5;241m=\u001b[39m N\u001b[38;5;241m/\u001b[39m\u001b[38;5;241m/\u001b[39m\u001b[38;5;28mlen\u001b[39m(dataset_names)\u001b[38;5;241m+\u001b[39m\u001b[38;5;241m1\u001b[39m\n\u001b[1;32m    313\u001b[0m \u001b[38;5;28;01mfor\u001b[39;00m ds_name \u001b[38;5;129;01min\u001b[39;00m dataset_names:\n\u001b[1;32m    314\u001b[0m     \u001b[38;5;66;03m# if it is a path\u001b[39;00m\n\u001b[0;32m--> 315\u001b[0m     ds_tokens1 \u001b[38;5;241m=\u001b[39m \u001b[43mload_preproc_dataset\u001b[49m\u001b[43m(\u001b[49m\n\u001b[1;32m    316\u001b[0m \u001b[43m        \u001b[49m\u001b[43mds_name\u001b[49m\u001b[43m,\u001b[49m\n\u001b[1;32m    317\u001b[0m \u001b[43m        \u001b[49m\u001b[43mN\u001b[49m\u001b[38;5;241;43m=\u001b[39;49m\u001b[43mn\u001b[49m\u001b[43m,\u001b[49m\n\u001b[1;32m    318\u001b[0m \u001b[43m        \u001b[49m\u001b[43mseed\u001b[49m\u001b[38;5;241;43m=\u001b[39;49m\u001b[43mseed\u001b[49m\u001b[43m,\u001b[49m\n\u001b[1;32m    319\u001b[0m \u001b[43m        \u001b[49m\u001b[43mnum_shots\u001b[49m\u001b[38;5;241;43m=\u001b[39;49m\u001b[43mnum_shots\u001b[49m\u001b[43m,\u001b[49m\n\u001b[1;32m    320\u001b[0m \u001b[43m        \u001b[49m\u001b[43mM\u001b[49m\u001b[38;5;241;43m=\u001b[39;49m\u001b[43mM\u001b[49m\u001b[43m,\u001b[49m\n\u001b[1;32m    321\u001b[0m \u001b[43m    \u001b[49m\u001b[43m)\u001b[49m\u001b[38;5;241m.\u001b[39mwith_format(\u001b[38;5;124m\"\u001b[39m\u001b[38;5;124mtorch\u001b[39m\u001b[38;5;124m\"\u001b[39m)\n\u001b[1;32m    322\u001b[0m     datasets2\u001b[38;5;241m.\u001b[39mappend(ds_tokens1)\n\u001b[1;32m    323\u001b[0m ds_tokens \u001b[38;5;241m=\u001b[39m datasets\u001b[38;5;241m.\u001b[39mconcatenate_datasets(datasets2)\n",
      "File \u001b[0;32m/media/wassname/SGIronWolf/projects5/elk/lie_elicitation_prompts/lie_elicitation_prompts/lie_elicitation_prompts/prompts/prompt_loading.py:329\u001b[0m, in \u001b[0;36mload_preproc_dataset\u001b[0;34m(ds_name, N, split_type, seed, num_shots, sys_instructions, M)\u001b[0m\n\u001b[1;32m    328\u001b[0m \u001b[38;5;28;01mdef\u001b[39;00m \u001b[38;5;21mload_preproc_dataset\u001b[39m(ds_name: \u001b[38;5;28mstr\u001b[39m, N:\u001b[38;5;28mint\u001b[39m, split_type:\u001b[38;5;28mstr\u001b[39m\u001b[38;5;241m=\u001b[39m\u001b[38;5;124m\"\u001b[39m\u001b[38;5;124mtrain\u001b[39m\u001b[38;5;124m\"\u001b[39m, seed\u001b[38;5;241m=\u001b[39m\u001b[38;5;241m42\u001b[39m, num_shots\u001b[38;5;241m=\u001b[39m\u001b[38;5;241m1\u001b[39m, sys_instructions\u001b[38;5;241m=\u001b[39mdefault_sys_instructions, M\u001b[38;5;241m=\u001b[39m\u001b[38;5;241m3\u001b[39m,) \u001b[38;5;241m-\u001b[39m\u001b[38;5;241m>\u001b[39m Dataset:\n\u001b[0;32m--> 329\u001b[0m     ds_prompts \u001b[38;5;241m=\u001b[39m \u001b[43mDataset\u001b[49m\u001b[38;5;241;43m.\u001b[39;49m\u001b[43mfrom_generator\u001b[49m\u001b[43m(\u001b[49m\n\u001b[1;32m    330\u001b[0m \u001b[43m        \u001b[49m\u001b[43mload_prompts\u001b[49m\u001b[43m,\u001b[49m\n\u001b[1;32m    331\u001b[0m \u001b[43m        \u001b[49m\u001b[43mgen_kwargs\u001b[49m\u001b[38;5;241;43m=\u001b[39;49m\u001b[38;5;28;43mdict\u001b[39;49m\u001b[43m(\u001b[49m\n\u001b[1;32m    332\u001b[0m \u001b[43m            \u001b[49m\u001b[43mds_string\u001b[49m\u001b[38;5;241;43m=\u001b[39;49m\u001b[43mds_name\u001b[49m\u001b[43m,\u001b[49m\n\u001b[1;32m    333\u001b[0m \u001b[43m            \u001b[49m\u001b[43mnum_shots\u001b[49m\u001b[38;5;241;43m=\u001b[39;49m\u001b[43mnum_shots\u001b[49m\u001b[43m,\u001b[49m\n\u001b[1;32m    334\u001b[0m \u001b[43m            \u001b[49m\u001b[43msplit_type\u001b[49m\u001b[38;5;241;43m=\u001b[39;49m\u001b[43msplit_type\u001b[49m\u001b[43m,\u001b[49m\n\u001b[1;32m    335\u001b[0m \u001b[43m            \u001b[49m\u001b[43msys_instructions\u001b[49m\u001b[38;5;241;43m=\u001b[39;49m\u001b[43msys_instructions\u001b[49m\u001b[43m,\u001b[49m\n\u001b[1;32m    336\u001b[0m \u001b[43m            \u001b[49m\u001b[43mseed\u001b[49m\u001b[38;5;241;43m=\u001b[39;49m\u001b[43mseed\u001b[49m\u001b[43m,\u001b[49m\n\u001b[1;32m    337\u001b[0m \u001b[43m            \u001b[49m\u001b[43mN\u001b[49m\u001b[38;5;241;43m=\u001b[39;49m\u001b[43mN\u001b[49m\u001b[43m,\u001b[49m\n\u001b[1;32m    338\u001b[0m \u001b[43m            \u001b[49m\u001b[43mM\u001b[49m\u001b[38;5;241;43m=\u001b[39;49m\u001b[43mM\u001b[49m\u001b[43m,\u001b[49m\n\u001b[1;32m    339\u001b[0m \u001b[43m        \u001b[49m\u001b[43m)\u001b[49m\u001b[43m,\u001b[49m\n\u001b[1;32m    340\u001b[0m \u001b[43m        \u001b[49m\u001b[43mkeep_in_memory\u001b[49m\u001b[38;5;241;43m=\u001b[39;49m\u001b[38;5;28;43;01mFalse\u001b[39;49;00m\u001b[43m,\u001b[49m\n\u001b[1;32m    341\u001b[0m \u001b[43m    \u001b[49m\u001b[43m)\u001b[49m\n\u001b[1;32m    342\u001b[0m     ds_prompts \u001b[38;5;241m=\u001b[39m shuffle_dataset_by(ds_prompts, target\u001b[38;5;241m=\u001b[39m\u001b[38;5;124m'\u001b[39m\u001b[38;5;124mlabel_true\u001b[39m\u001b[38;5;124m'\u001b[39m, random_state\u001b[38;5;241m=\u001b[39mseed, stratify_columns\u001b[38;5;241m=\u001b[39m[])\n\u001b[1;32m    343\u001b[0m     \u001b[38;5;28;01mreturn\u001b[39;00m ds_prompts\n",
      "File \u001b[0;32m/media/wassname/SGIronWolf/projects5/elk/lie_elicitation_prompts/lie_elicitation_prompts/.venv/lib/python3.10/site-packages/datasets/arrow_dataset.py:1125\u001b[0m, in \u001b[0;36mDataset.from_generator\u001b[0;34m(generator, features, cache_dir, keep_in_memory, gen_kwargs, num_proc, **kwargs)\u001b[0m\n\u001b[1;32m   1068\u001b[0m \u001b[38;5;250m\u001b[39m\u001b[38;5;124;03m\"\"\"Create a Dataset from a generator.\u001b[39;00m\n\u001b[1;32m   1069\u001b[0m \n\u001b[1;32m   1070\u001b[0m \u001b[38;5;124;03mArgs:\u001b[39;00m\n\u001b[0;32m   (...)\u001b[0m\n\u001b[1;32m   1113\u001b[0m \u001b[38;5;124;03m```\u001b[39;00m\n\u001b[1;32m   1114\u001b[0m \u001b[38;5;124;03m\"\"\"\u001b[39;00m\n\u001b[1;32m   1115\u001b[0m \u001b[38;5;28;01mfrom\u001b[39;00m \u001b[38;5;21;01m.\u001b[39;00m\u001b[38;5;21;01mio\u001b[39;00m\u001b[38;5;21;01m.\u001b[39;00m\u001b[38;5;21;01mgenerator\u001b[39;00m \u001b[38;5;28;01mimport\u001b[39;00m GeneratorDatasetInputStream\n\u001b[1;32m   1117\u001b[0m \u001b[38;5;28;01mreturn\u001b[39;00m \u001b[43mGeneratorDatasetInputStream\u001b[49m\u001b[43m(\u001b[49m\n\u001b[1;32m   1118\u001b[0m \u001b[43m    \u001b[49m\u001b[43mgenerator\u001b[49m\u001b[38;5;241;43m=\u001b[39;49m\u001b[43mgenerator\u001b[49m\u001b[43m,\u001b[49m\n\u001b[1;32m   1119\u001b[0m \u001b[43m    \u001b[49m\u001b[43mfeatures\u001b[49m\u001b[38;5;241;43m=\u001b[39;49m\u001b[43mfeatures\u001b[49m\u001b[43m,\u001b[49m\n\u001b[1;32m   1120\u001b[0m \u001b[43m    \u001b[49m\u001b[43mcache_dir\u001b[49m\u001b[38;5;241;43m=\u001b[39;49m\u001b[43mcache_dir\u001b[49m\u001b[43m,\u001b[49m\n\u001b[1;32m   1121\u001b[0m \u001b[43m    \u001b[49m\u001b[43mkeep_in_memory\u001b[49m\u001b[38;5;241;43m=\u001b[39;49m\u001b[43mkeep_in_memory\u001b[49m\u001b[43m,\u001b[49m\n\u001b[1;32m   1122\u001b[0m \u001b[43m    \u001b[49m\u001b[43mgen_kwargs\u001b[49m\u001b[38;5;241;43m=\u001b[39;49m\u001b[43mgen_kwargs\u001b[49m\u001b[43m,\u001b[49m\n\u001b[1;32m   1123\u001b[0m \u001b[43m    \u001b[49m\u001b[43mnum_proc\u001b[49m\u001b[38;5;241;43m=\u001b[39;49m\u001b[43mnum_proc\u001b[49m\u001b[43m,\u001b[49m\n\u001b[1;32m   1124\u001b[0m \u001b[43m    \u001b[49m\u001b[38;5;241;43m*\u001b[39;49m\u001b[38;5;241;43m*\u001b[39;49m\u001b[43mkwargs\u001b[49m\u001b[43m,\u001b[49m\n\u001b[0;32m-> 1125\u001b[0m \u001b[43m\u001b[49m\u001b[43m)\u001b[49m\u001b[38;5;241;43m.\u001b[39;49m\u001b[43mread\u001b[49m\u001b[43m(\u001b[49m\u001b[43m)\u001b[49m\n",
      "File \u001b[0;32m/media/wassname/SGIronWolf/projects5/elk/lie_elicitation_prompts/lie_elicitation_prompts/.venv/lib/python3.10/site-packages/datasets/io/generator.py:47\u001b[0m, in \u001b[0;36mGeneratorDatasetInputStream.read\u001b[0;34m(self)\u001b[0m\n\u001b[1;32m     44\u001b[0m     verification_mode \u001b[38;5;241m=\u001b[39m \u001b[38;5;28;01mNone\u001b[39;00m\n\u001b[1;32m     45\u001b[0m     base_path \u001b[38;5;241m=\u001b[39m \u001b[38;5;28;01mNone\u001b[39;00m\n\u001b[0;32m---> 47\u001b[0m     \u001b[38;5;28;43mself\u001b[39;49m\u001b[38;5;241;43m.\u001b[39;49m\u001b[43mbuilder\u001b[49m\u001b[38;5;241;43m.\u001b[39;49m\u001b[43mdownload_and_prepare\u001b[49m\u001b[43m(\u001b[49m\n\u001b[1;32m     48\u001b[0m \u001b[43m        \u001b[49m\u001b[43mdownload_config\u001b[49m\u001b[38;5;241;43m=\u001b[39;49m\u001b[43mdownload_config\u001b[49m\u001b[43m,\u001b[49m\n\u001b[1;32m     49\u001b[0m \u001b[43m        \u001b[49m\u001b[43mdownload_mode\u001b[49m\u001b[38;5;241;43m=\u001b[39;49m\u001b[43mdownload_mode\u001b[49m\u001b[43m,\u001b[49m\n\u001b[1;32m     50\u001b[0m \u001b[43m        \u001b[49m\u001b[43mverification_mode\u001b[49m\u001b[38;5;241;43m=\u001b[39;49m\u001b[43mverification_mode\u001b[49m\u001b[43m,\u001b[49m\n\u001b[1;32m     51\u001b[0m \u001b[43m        \u001b[49m\u001b[43mbase_path\u001b[49m\u001b[38;5;241;43m=\u001b[39;49m\u001b[43mbase_path\u001b[49m\u001b[43m,\u001b[49m\n\u001b[1;32m     52\u001b[0m \u001b[43m        \u001b[49m\u001b[43mnum_proc\u001b[49m\u001b[38;5;241;43m=\u001b[39;49m\u001b[38;5;28;43mself\u001b[39;49m\u001b[38;5;241;43m.\u001b[39;49m\u001b[43mnum_proc\u001b[49m\u001b[43m,\u001b[49m\n\u001b[1;32m     53\u001b[0m \u001b[43m    \u001b[49m\u001b[43m)\u001b[49m\n\u001b[1;32m     54\u001b[0m     dataset \u001b[38;5;241m=\u001b[39m \u001b[38;5;28mself\u001b[39m\u001b[38;5;241m.\u001b[39mbuilder\u001b[38;5;241m.\u001b[39mas_dataset(\n\u001b[1;32m     55\u001b[0m         split\u001b[38;5;241m=\u001b[39m\u001b[38;5;124m\"\u001b[39m\u001b[38;5;124mtrain\u001b[39m\u001b[38;5;124m\"\u001b[39m, verification_mode\u001b[38;5;241m=\u001b[39mverification_mode, in_memory\u001b[38;5;241m=\u001b[39m\u001b[38;5;28mself\u001b[39m\u001b[38;5;241m.\u001b[39mkeep_in_memory\n\u001b[1;32m     56\u001b[0m     )\n\u001b[1;32m     57\u001b[0m \u001b[38;5;28;01mreturn\u001b[39;00m dataset\n",
      "File \u001b[0;32m/media/wassname/SGIronWolf/projects5/elk/lie_elicitation_prompts/lie_elicitation_prompts/.venv/lib/python3.10/site-packages/datasets/builder.py:1027\u001b[0m, in \u001b[0;36mDatasetBuilder.download_and_prepare\u001b[0;34m(self, output_dir, download_config, download_mode, verification_mode, ignore_verifications, try_from_hf_gcs, dl_manager, base_path, use_auth_token, file_format, max_shard_size, num_proc, storage_options, **download_and_prepare_kwargs)\u001b[0m\n\u001b[1;32m   1025\u001b[0m     \u001b[38;5;28;01mif\u001b[39;00m num_proc \u001b[38;5;129;01mis\u001b[39;00m \u001b[38;5;129;01mnot\u001b[39;00m \u001b[38;5;28;01mNone\u001b[39;00m:\n\u001b[1;32m   1026\u001b[0m         prepare_split_kwargs[\u001b[38;5;124m\"\u001b[39m\u001b[38;5;124mnum_proc\u001b[39m\u001b[38;5;124m\"\u001b[39m] \u001b[38;5;241m=\u001b[39m num_proc\n\u001b[0;32m-> 1027\u001b[0m     \u001b[38;5;28;43mself\u001b[39;49m\u001b[38;5;241;43m.\u001b[39;49m\u001b[43m_download_and_prepare\u001b[49m\u001b[43m(\u001b[49m\n\u001b[1;32m   1028\u001b[0m \u001b[43m        \u001b[49m\u001b[43mdl_manager\u001b[49m\u001b[38;5;241;43m=\u001b[39;49m\u001b[43mdl_manager\u001b[49m\u001b[43m,\u001b[49m\n\u001b[1;32m   1029\u001b[0m \u001b[43m        \u001b[49m\u001b[43mverification_mode\u001b[49m\u001b[38;5;241;43m=\u001b[39;49m\u001b[43mverification_mode\u001b[49m\u001b[43m,\u001b[49m\n\u001b[1;32m   1030\u001b[0m \u001b[43m        \u001b[49m\u001b[38;5;241;43m*\u001b[39;49m\u001b[38;5;241;43m*\u001b[39;49m\u001b[43mprepare_split_kwargs\u001b[49m\u001b[43m,\u001b[49m\n\u001b[1;32m   1031\u001b[0m \u001b[43m        \u001b[49m\u001b[38;5;241;43m*\u001b[39;49m\u001b[38;5;241;43m*\u001b[39;49m\u001b[43mdownload_and_prepare_kwargs\u001b[49m\u001b[43m,\u001b[49m\n\u001b[1;32m   1032\u001b[0m \u001b[43m    \u001b[49m\u001b[43m)\u001b[49m\n\u001b[1;32m   1033\u001b[0m \u001b[38;5;66;03m# Sync info\u001b[39;00m\n\u001b[1;32m   1034\u001b[0m \u001b[38;5;28mself\u001b[39m\u001b[38;5;241m.\u001b[39minfo\u001b[38;5;241m.\u001b[39mdataset_size \u001b[38;5;241m=\u001b[39m \u001b[38;5;28msum\u001b[39m(split\u001b[38;5;241m.\u001b[39mnum_bytes \u001b[38;5;28;01mfor\u001b[39;00m split \u001b[38;5;129;01min\u001b[39;00m \u001b[38;5;28mself\u001b[39m\u001b[38;5;241m.\u001b[39minfo\u001b[38;5;241m.\u001b[39msplits\u001b[38;5;241m.\u001b[39mvalues())\n",
      "File \u001b[0;32m/media/wassname/SGIronWolf/projects5/elk/lie_elicitation_prompts/lie_elicitation_prompts/.venv/lib/python3.10/site-packages/datasets/builder.py:1789\u001b[0m, in \u001b[0;36mGeneratorBasedBuilder._download_and_prepare\u001b[0;34m(self, dl_manager, verification_mode, **prepare_splits_kwargs)\u001b[0m\n\u001b[1;32m   1788\u001b[0m \u001b[38;5;28;01mdef\u001b[39;00m \u001b[38;5;21m_download_and_prepare\u001b[39m(\u001b[38;5;28mself\u001b[39m, dl_manager, verification_mode, \u001b[38;5;241m*\u001b[39m\u001b[38;5;241m*\u001b[39mprepare_splits_kwargs):\n\u001b[0;32m-> 1789\u001b[0m     \u001b[38;5;28;43msuper\u001b[39;49m\u001b[43m(\u001b[49m\u001b[43m)\u001b[49m\u001b[38;5;241;43m.\u001b[39;49m\u001b[43m_download_and_prepare\u001b[49m\u001b[43m(\u001b[49m\n\u001b[1;32m   1790\u001b[0m \u001b[43m        \u001b[49m\u001b[43mdl_manager\u001b[49m\u001b[43m,\u001b[49m\n\u001b[1;32m   1791\u001b[0m \u001b[43m        \u001b[49m\u001b[43mverification_mode\u001b[49m\u001b[43m,\u001b[49m\n\u001b[1;32m   1792\u001b[0m \u001b[43m        \u001b[49m\u001b[43mcheck_duplicate_keys\u001b[49m\u001b[38;5;241;43m=\u001b[39;49m\u001b[43mverification_mode\u001b[49m\u001b[43m \u001b[49m\u001b[38;5;241;43m==\u001b[39;49m\u001b[43m \u001b[49m\u001b[43mVerificationMode\u001b[49m\u001b[38;5;241;43m.\u001b[39;49m\u001b[43mBASIC_CHECKS\u001b[49m\n\u001b[1;32m   1793\u001b[0m \u001b[43m        \u001b[49m\u001b[38;5;129;43;01mor\u001b[39;49;00m\u001b[43m \u001b[49m\u001b[43mverification_mode\u001b[49m\u001b[43m \u001b[49m\u001b[38;5;241;43m==\u001b[39;49m\u001b[43m \u001b[49m\u001b[43mVerificationMode\u001b[49m\u001b[38;5;241;43m.\u001b[39;49m\u001b[43mALL_CHECKS\u001b[49m\u001b[43m,\u001b[49m\n\u001b[1;32m   1794\u001b[0m \u001b[43m        \u001b[49m\u001b[38;5;241;43m*\u001b[39;49m\u001b[38;5;241;43m*\u001b[39;49m\u001b[43mprepare_splits_kwargs\u001b[49m\u001b[43m,\u001b[49m\n\u001b[1;32m   1795\u001b[0m \u001b[43m    \u001b[49m\u001b[43m)\u001b[49m\n",
      "File \u001b[0;32m/media/wassname/SGIronWolf/projects5/elk/lie_elicitation_prompts/lie_elicitation_prompts/.venv/lib/python3.10/site-packages/datasets/builder.py:1122\u001b[0m, in \u001b[0;36mDatasetBuilder._download_and_prepare\u001b[0;34m(self, dl_manager, verification_mode, **prepare_split_kwargs)\u001b[0m\n\u001b[1;32m   1118\u001b[0m split_dict\u001b[38;5;241m.\u001b[39madd(split_generator\u001b[38;5;241m.\u001b[39msplit_info)\n\u001b[1;32m   1120\u001b[0m \u001b[38;5;28;01mtry\u001b[39;00m:\n\u001b[1;32m   1121\u001b[0m     \u001b[38;5;66;03m# Prepare split will record examples associated to the split\u001b[39;00m\n\u001b[0;32m-> 1122\u001b[0m     \u001b[38;5;28;43mself\u001b[39;49m\u001b[38;5;241;43m.\u001b[39;49m\u001b[43m_prepare_split\u001b[49m\u001b[43m(\u001b[49m\u001b[43msplit_generator\u001b[49m\u001b[43m,\u001b[49m\u001b[43m \u001b[49m\u001b[38;5;241;43m*\u001b[39;49m\u001b[38;5;241;43m*\u001b[39;49m\u001b[43mprepare_split_kwargs\u001b[49m\u001b[43m)\u001b[49m\n\u001b[1;32m   1123\u001b[0m \u001b[38;5;28;01mexcept\u001b[39;00m \u001b[38;5;167;01mOSError\u001b[39;00m \u001b[38;5;28;01mas\u001b[39;00m e:\n\u001b[1;32m   1124\u001b[0m     \u001b[38;5;28;01mraise\u001b[39;00m \u001b[38;5;167;01mOSError\u001b[39;00m(\n\u001b[1;32m   1125\u001b[0m         \u001b[38;5;124m\"\u001b[39m\u001b[38;5;124mCannot find data file. \u001b[39m\u001b[38;5;124m\"\u001b[39m\n\u001b[1;32m   1126\u001b[0m         \u001b[38;5;241m+\u001b[39m (\u001b[38;5;28mself\u001b[39m\u001b[38;5;241m.\u001b[39mmanual_download_instructions \u001b[38;5;129;01mor\u001b[39;00m \u001b[38;5;124m\"\u001b[39m\u001b[38;5;124m\"\u001b[39m)\n\u001b[1;32m   1127\u001b[0m         \u001b[38;5;241m+\u001b[39m \u001b[38;5;124m\"\u001b[39m\u001b[38;5;130;01m\\n\u001b[39;00m\u001b[38;5;124mOriginal error:\u001b[39m\u001b[38;5;130;01m\\n\u001b[39;00m\u001b[38;5;124m\"\u001b[39m\n\u001b[1;32m   1128\u001b[0m         \u001b[38;5;241m+\u001b[39m \u001b[38;5;28mstr\u001b[39m(e)\n\u001b[1;32m   1129\u001b[0m     ) \u001b[38;5;28;01mfrom\u001b[39;00m \u001b[38;5;28;01mNone\u001b[39;00m\n",
      "File \u001b[0;32m/media/wassname/SGIronWolf/projects5/elk/lie_elicitation_prompts/lie_elicitation_prompts/.venv/lib/python3.10/site-packages/datasets/builder.py:1627\u001b[0m, in \u001b[0;36mGeneratorBasedBuilder._prepare_split\u001b[0;34m(self, split_generator, check_duplicate_keys, file_format, num_proc, max_shard_size)\u001b[0m\n\u001b[1;32m   1625\u001b[0m job_id \u001b[38;5;241m=\u001b[39m \u001b[38;5;241m0\u001b[39m\n\u001b[1;32m   1626\u001b[0m \u001b[38;5;28;01mwith\u001b[39;00m pbar:\n\u001b[0;32m-> 1627\u001b[0m     \u001b[38;5;28;01mfor\u001b[39;00m job_id, done, content \u001b[38;5;129;01min\u001b[39;00m \u001b[38;5;28mself\u001b[39m\u001b[38;5;241m.\u001b[39m_prepare_split_single(\n\u001b[1;32m   1628\u001b[0m         gen_kwargs\u001b[38;5;241m=\u001b[39mgen_kwargs, job_id\u001b[38;5;241m=\u001b[39mjob_id, \u001b[38;5;241m*\u001b[39m\u001b[38;5;241m*\u001b[39m_prepare_split_args\n\u001b[1;32m   1629\u001b[0m     ):\n\u001b[1;32m   1630\u001b[0m         \u001b[38;5;28;01mif\u001b[39;00m done:\n\u001b[1;32m   1631\u001b[0m             result \u001b[38;5;241m=\u001b[39m content\n",
      "File \u001b[0;32m/media/wassname/SGIronWolf/projects5/elk/lie_elicitation_prompts/lie_elicitation_prompts/.venv/lib/python3.10/site-packages/datasets/builder.py:1784\u001b[0m, in \u001b[0;36mGeneratorBasedBuilder._prepare_split_single\u001b[0;34m(self, gen_kwargs, fpath, file_format, max_shard_size, split_info, check_duplicate_keys, job_id)\u001b[0m\n\u001b[1;32m   1782\u001b[0m     \u001b[38;5;28;01mif\u001b[39;00m \u001b[38;5;28misinstance\u001b[39m(e, SchemaInferenceError) \u001b[38;5;129;01mand\u001b[39;00m e\u001b[38;5;241m.\u001b[39m__context__ \u001b[38;5;129;01mis\u001b[39;00m \u001b[38;5;129;01mnot\u001b[39;00m \u001b[38;5;28;01mNone\u001b[39;00m:\n\u001b[1;32m   1783\u001b[0m         e \u001b[38;5;241m=\u001b[39m e\u001b[38;5;241m.\u001b[39m__context__\n\u001b[0;32m-> 1784\u001b[0m     \u001b[38;5;28;01mraise\u001b[39;00m DatasetGenerationError(\u001b[38;5;124m\"\u001b[39m\u001b[38;5;124mAn error occurred while generating the dataset\u001b[39m\u001b[38;5;124m\"\u001b[39m) \u001b[38;5;28;01mfrom\u001b[39;00m \u001b[38;5;21;01me\u001b[39;00m\n\u001b[1;32m   1786\u001b[0m \u001b[38;5;28;01myield\u001b[39;00m job_id, \u001b[38;5;28;01mTrue\u001b[39;00m, (total_num_examples, total_num_bytes, writer\u001b[38;5;241m.\u001b[39m_features, num_shards, shard_lengths)\n",
      "\u001b[0;31mDatasetGenerationError\u001b[0m: An error occurred while generating the dataset"
     ]
    }
   ],
   "source": [
    "\n",
    "\n",
    "N = cfg.max_examples\n",
    "ds_prompts = load_preproc_datasets(\n",
    "    cfg.datasets,\n",
    "    N=N,\n",
    "    seed=cfg.seed,\n",
    "    num_shots=cfg.num_shots,\n",
    "    M=cfg.repeats,\n",
    ")\n",
    "ds_prompts"
   ]
  },
  {
   "cell_type": "code",
   "execution_count": null,
   "id": "90868bf7",
   "metadata": {},
   "outputs": [],
   "source": [
    "# ds_prompts_ood = load_preproc_datasets(\n",
    "#     cfg.datasets_ood,\n",
    "#     N=N,\n",
    "#     seed=cfg.seed,\n",
    "#     num_shots=cfg.num_shots,\n",
    "# )\n",
    "# ds_prompts_ood"
   ]
  },
  {
   "cell_type": "code",
   "execution_count": null,
   "id": "d6334ae1",
   "metadata": {},
   "outputs": [],
   "source": [
    "ds_prompts[1]"
   ]
  },
  {
   "cell_type": "code",
   "execution_count": null,
   "id": "058982f9",
   "metadata": {},
   "outputs": [],
   "source": [
    "# save"
   ]
  },
  {
   "cell_type": "markdown",
   "id": "8b1050f5",
   "metadata": {},
   "source": [
    "## Load tokenized dataset\n",
    "\n",
    "- tokenize\n",
    "- filter out truncated\n",
    "- check which ones the model knows"
   ]
  },
  {
   "cell_type": "code",
   "execution_count": null,
   "id": "abf4936e",
   "metadata": {},
   "outputs": [],
   "source": [
    "import os, torch\n",
    "# os.environ['CUDA_VISIBLE_DEVICES'] = 'GPU-c4552741-f485-34ce-97fa-6c32983853af'\n",
    "# os.environ['CUDA_VISIBLE_DEVICES'] = '0'"
   ]
  },
  {
   "cell_type": "code",
   "execution_count": null,
   "id": "2115d010",
   "metadata": {},
   "outputs": [],
   "source": [
    "# torch.cuda.get_device_name()"
   ]
  },
  {
   "cell_type": "code",
   "execution_count": null,
   "id": "2a44fb25",
   "metadata": {},
   "outputs": [],
   "source": [
    "quantization_config = BitsAndBytesConfig(\n",
    "    load_in_4bit=True,\n",
    "    bnb_4bit_quant_type=\"nf4\",\n",
    "    bnb_4bit_compute_dtype=torch.bfloat16,\n",
    "    bnb_4bit_use_double_quant=True,\n",
    ")\n",
    "\n",
    "model = AutoModelForCausalLM.from_pretrained(\n",
    "    cfg.model,\n",
    "    device_map=\"cuda:0\",\n",
    "    quantization_config=quantization_config,\n",
    ")\n",
    "\n",
    "tokenizer = AutoTokenizer.from_pretrained(cfg.model)\n",
    "if tokenizer.pad_token_id is None:\n",
    "    tokenizer.pad_token_id = tokenizer.eos_token_id\n",
    "tokenizer.padding_side = \"left\"\n",
    "tokenizer.truncation_side = \"left\""
   ]
  },
  {
   "cell_type": "code",
   "execution_count": null,
   "id": "e07503ec",
   "metadata": {},
   "outputs": [],
   "source": [
    "\n",
    "\n",
    "ds_tokens = (\n",
    "    ds_prompts.map(\n",
    "        lambda x: {\n",
    "            \"formatted_chat\": tokenizer.apply_chat_template(\n",
    "                x[\"messages\"], tokenize=False, add_generation_prompt=True\n",
    "            )\n",
    "        }\n",
    "    )\n",
    "    .map(\n",
    "        lambda x: tokenizer(\n",
    "            x[\"formatted_chat\"],\n",
    "            return_tensors=\"pt\",\n",
    "            max_length=cfg.max_tokens,\n",
    "            padding=\"max_length\",\n",
    "            truncation=True,\n",
    "        ),\n",
    "        batched=True,\n",
    "    )\n",
    "    .map(lambda r: {\"choice_ids\": row_choice_ids(r, tokenizer)}, desc=\"choice_ids\")\n",
    "    .filter(lambda x: x[\"attention_mask\"].sum() < cfg.max_tokens)\n",
    ")\n",
    "ds_tokens"
   ]
  },
  {
   "cell_type": "code",
   "execution_count": null,
   "id": "76ece49e",
   "metadata": {},
   "outputs": [],
   "source": [
    "\n",
    "# def apply_prompt(messages):\n",
    "#     o = tokenizer.apply_chat_template(\n",
    "#                 messages, add_generation_prompt=True, return_tensors=\"pt\",\n",
    "#             max_length=cfg.max_tokens,\n",
    "#             padding=\"max_length\",\n",
    "#             truncation=True,\n",
    "#             return_dict=True,\n",
    "#             )\n",
    "#     return {k:v.squeeze() for k,v in o.items()}\n",
    "\n",
    "# ds_tokens = (\n",
    "#     ds_prompts.map(\n",
    "#         lambda x: apply_prompt(x[\"messages\"])\n",
    "#     )\n",
    "#     .map(lambda r: {\"choice_ids\": row_choice_ids(r, tokenizer)}, desc=\"choice_ids\")\n",
    "#     .filter(lambda x: x[\"attention_mask\"].sum() < cfg.max_tokens)\n",
    "# )\n",
    "# ds_tokens"
   ]
  },
  {
   "cell_type": "code",
   "execution_count": null,
   "id": "77b6136f",
   "metadata": {},
   "outputs": [],
   "source": [
    "print(len(ds_prompts), len(ds_tokens))\n",
    "\n",
    "pd.Series(ds_prompts['ds_string']).value_counts(), pd.Series(ds_tokens['sys_instr_name']).value_counts()"
   ]
  },
  {
   "cell_type": "code",
   "execution_count": null,
   "id": "fb21a718",
   "metadata": {},
   "outputs": [],
   "source": [
    "# tokenizer.batch_decode(batch['input_ids'], skip_special_tokens=True)\n",
    "\n",
    "ds_tokens[:4]['formatted_chat']"
   ]
  },
  {
   "cell_type": "markdown",
   "id": "bd8669c0",
   "metadata": {},
   "source": [
    "### Check model knowledge"
   ]
  },
  {
   "cell_type": "code",
   "execution_count": null,
   "id": "4616102b",
   "metadata": {},
   "outputs": [],
   "source": [
    "df_metadata = ds_tokens.select_columns(['ds_string', 'example_i', 'sys_instr_name', 'instructed_to_lie']).to_pandas().reset_index(names='my_ds_index')\n",
    "df_metadata_truth = df_metadata.query('instructed_to_lie == False')\n",
    "df_metadata_truth\n",
    "\n",
    "# FIXME right now there is just one example of each, I guess I want a couple, hmm\n",
    "df_metadata.query('instructed_to_lie == False').groupby(['ds_string', 'example_i'], as_index=False)['my_ds_index'].count()"
   ]
  },
  {
   "cell_type": "code",
   "execution_count": null,
   "id": "ed668740",
   "metadata": {},
   "outputs": [],
   "source": [
    "# ds_tokens_truthful = ds_tokens.select(torch.argwhere(~ds_tokens['instructed_to_lie']))\n",
    "# ds_tokens_truthful"
   ]
  },
  {
   "cell_type": "code",
   "execution_count": null,
   "id": "e1be1c6a",
   "metadata": {},
   "outputs": [],
   "source": [
    "from lie_elicitation_prompts.helpers.torch_helpers import clear_mem\n",
    "clear_mem()"
   ]
  },
  {
   "cell_type": "code",
   "execution_count": null,
   "id": "0440173a",
   "metadata": {},
   "outputs": [],
   "source": [
    "from torch.utils.data import DataLoader\n",
    "from lie_elicitation_prompts.helpers.select import select_multi_from_tensor\n",
    "from lie_elicitation_prompts.helpers.scores import sum_select_choices_from_logits\n",
    "\n",
    "batch_size = 10\n",
    "\n",
    "ds = ds_tokens.select_columns(['ds_string', 'sys_instr_name', 'example_i', 'instructed_to_lie', 'label_true', 'input_ids', 'attention_mask', 'choice_ids'])\n",
    "dl = DataLoader(ds, batch_size=batch_size, shuffle=True)\n",
    "\n",
    "model.eval()\n",
    "\n",
    "results = []\n",
    "\n",
    "for nb, batch in enumerate(tqdm(dl)):\n",
    "\n",
    "    # to device\n",
    "    inputs = {'input_ids': batch['input_ids'].to(model.device), 'attention_mask': batch['attention_mask'].to(model.device)}\n",
    "    labels = batch['label_true']\n",
    "    choice_ids = batch['choice_ids']#.to(model.device)\n",
    "\n",
    "    with torch.no_grad():\n",
    "        out = model(**inputs)\n",
    "\n",
    "        # see how elk handles this https://github.com/EleutherAI/elk/blob/84e99a36a5050881d85f1510a2486ce46ac1f942/elk/extraction/extraction.py#L388\n",
    "        logits_last = out['logits'][:, -1].detach().cpu()\n",
    "        probs = out['prob_choices'] = sum_select_choices_from_logits(logits_last, choice_ids) # this does not add to one, as it is the prob from among all tokens\n",
    "        out['coverage'] = probs.sum(dim=1)\n",
    "\n",
    "        # select the answer\n",
    "        out['prob_ans'] = prob_ans = select_multi_from_tensor(probs, labels) \n",
    "        # ind = torch.arange(labels.size(0))\n",
    "        # out['prob_ans'] = prob_ans = probs[ind, labels*1]\n",
    "        out['odds_ans'] = prob_ans / probs.sum(-1) # ratio of probability mass assigned to the true label\n",
    "\n",
    "        # if we told it to lie, flip the truth odds. we want the odds over the other answer\n",
    "        instructed_to_lie = batch['instructed_to_lie'] * 1\n",
    "        out['odds_ans'] = (1-out['odds_ans']) * instructed_to_lie + out['odds_ans'] * (1-instructed_to_lie)\n",
    "\n",
    "        corrects = out['odds_ans']>0.5\n",
    "\n",
    "        # FIXME, make my logic forward compatible with multiple chocies, not bool\n",
    "\n",
    "        for batch_i, correct in enumerate(corrects):\n",
    "            results.append({\n",
    "                'instructed_to_lie': batch['instructed_to_lie'][batch_i].item(),\n",
    "                'ds_string': batch['ds_string'][batch_i],\n",
    "                'sys_instr_name': batch['sys_instr_name'][batch_i],\n",
    "                'example_i': batch['example_i'][batch_i].item(),\n",
    "                'correct': correct.item(),\n",
    "                'prob_ans': out['prob_ans'][batch_i].item(),\n",
    "                'odds_ans': out['odds_ans'][batch_i].item(),\n",
    "                'coverage': out['coverage'][batch_i].item(),\n",
    "                'prob_choices': out['prob_choices'][batch_i].tolist(),\n",
    "            })"
   ]
  },
  {
   "cell_type": "code",
   "execution_count": null,
   "id": "009f7bcc",
   "metadata": {},
   "outputs": [],
   "source": [
    "# work out which question it knows the answer to\n",
    "df_results = pd.DataFrame(results)\n",
    "\n",
    "# # aggregate by original question content\n",
    "# df_correct_agg = df_results.groupby(['ds_string', 'example_i'])['correct'].agg(['count','mean']).reset_index()\n",
    "# df_correct_agg\n",
    "\n",
    "# # we should get all right, and have had at least 2\n",
    "# df_known = df_correct_agg.query(\"mean > 0.9 & count > 1\")\n",
    "# print(f'{len(df_correct_agg.query(\"mean > 0.9\"))/len(df_correct_agg):.2%} examples correct')\n",
    "# print(f'{len(df_correct_agg.query(\"count > 1\"))/len(df_correct_agg):.2%} examples represented')\n",
    "# print(f'ds len {len(df_correct_agg)}->{len(df_known)}')\n",
    "# df_known"
   ]
  },
  {
   "cell_type": "code",
   "execution_count": null,
   "id": "b6bac891",
   "metadata": {},
   "outputs": [],
   "source": [
    "# df_results.groupby?"
   ]
  },
  {
   "cell_type": "code",
   "execution_count": null,
   "id": "a087e564",
   "metadata": {},
   "outputs": [],
   "source": [
    "# for half the dataset it is asked to tell the truth, lets get the question id's where it reliably succeeds. These are places the model knows the truth.\n",
    "df_ans = (df_results\n",
    "            .query(\"instructed_to_lie==False\")\n",
    "            .groupby(['ds_string', 'example_i'], as_index=0)['correct'].agg(['count','mean'])\n",
    ")\n",
    "df_known = (df_ans\n",
    "            .query(\"mean > 0.9 & count > 1\")\n",
    "            .drop(columns=['count','mean'])\n",
    ")\n",
    "print(f'{len(df_known)/len(df_ans):.2%} of the time the model got the questions reliably correct')\n",
    "df_known"
   ]
  },
  {
   "cell_type": "code",
   "execution_count": null,
   "id": "5145c978",
   "metadata": {},
   "outputs": [],
   "source": [
    "# # QC\n",
    "# # print(df_results.groupby(['ds_string', 'example_i'])['instructed_to_lie'].mean())\n",
    "\n",
    "# # how often was it correct, when asked to lie\n",
    "# df_results.groupby(['instructed_to_lie'])['correct'].mean()"
   ]
  },
  {
   "cell_type": "code",
   "execution_count": null,
   "id": "3fef8f3c",
   "metadata": {},
   "outputs": [],
   "source": [
    "# also look at the half where it was asked to lie, and find where it reliably lies\n",
    "df_lie_res_agg = (df_results\n",
    "            .query(\"instructed_to_lie==True\")\n",
    "            .groupby(['ds_string', 'example_i'], as_index=0)['correct'].agg(['count','mean'])\n",
    ")\n",
    "df_lies = (df_lie_res_agg\n",
    "            .query(\"mean > 0.9 & count > 1\")\n",
    "            .drop(columns=['count','mean'])\n",
    ")\n",
    "print(f'{len(df_lies)/len(df_lie_res_agg):.2%} of the time the model reliably lied when asked')"
   ]
  },
  {
   "cell_type": "code",
   "execution_count": null,
   "id": "b2d85031",
   "metadata": {},
   "outputs": [],
   "source": [
    "df_results"
   ]
  },
  {
   "cell_type": "code",
   "execution_count": null,
   "id": "81666952",
   "metadata": {},
   "outputs": [],
   "source": [
    "# QC lies by ds\n",
    "df_lie_res_agg = (df_results\n",
    "            .query(\"instructed_to_lie==True\")\n",
    "            .groupby(['ds_string'], as_index=0)['correct'].agg(['count','mean'])\n",
    ")\n",
    "df_lie_res_agg"
   ]
  },
  {
   "cell_type": "code",
   "execution_count": null,
   "id": "c248545a",
   "metadata": {},
   "outputs": [],
   "source": [
    "# QC lies by prompt\n",
    "df_lie_res_agg = (df_results\n",
    "            .query(\"instructed_to_lie==True\")\n",
    "            .groupby(['sys_intr'], as_index=0)['correct'].agg(['count','mean'])\n",
    ")\n",
    "df_lie_res_agg"
   ]
  },
  {
   "cell_type": "code",
   "execution_count": null,
   "id": "690113f0",
   "metadata": {},
   "outputs": [],
   "source": [
    "# find our lies dataset\n",
    "pd.merge(df_known, df_lies)"
   ]
  },
  {
   "cell_type": "code",
   "execution_count": null,
   "id": "8e9554d6",
   "metadata": {},
   "outputs": [],
   "source": []
  },
  {
   "cell_type": "code",
   "execution_count": null,
   "id": "80d86045",
   "metadata": {},
   "outputs": [],
   "source": []
  },
  {
   "cell_type": "code",
   "execution_count": null,
   "id": "5acb4efe",
   "metadata": {},
   "outputs": [],
   "source": []
  },
  {
   "cell_type": "code",
   "execution_count": null,
   "id": "cd353c3b",
   "metadata": {},
   "outputs": [],
   "source": [
    "# QC\n",
    "\n",
    "# On a good dataset: Acc, or prob on correct ans should be high\n",
    "# And on a well formatted dataset, coverage should be hihg\n",
    "df_results.groupby(['ds_string'])[['coverage', 'odds_ans']].mean()"
   ]
  },
  {
   "cell_type": "code",
   "execution_count": null,
   "id": "e5f02ee2",
   "metadata": {},
   "outputs": [],
   "source": [
    "def row_is_known(x):\n",
    "    k = df_known[df_known.ds_string==x['ds_string']]\n",
    "    return x['example_i'].item() in k.example_i.values\n",
    "\n",
    "# filter the dataset to known answers based on ds_string and example_i\n",
    "ds_tokens_known = ds_tokens.filter(row_is_known)\n",
    "print(f\"{len(ds_tokens)} -> {len(ds_tokens_known)}\")\n",
    "ds_tokens_known"
   ]
  },
  {
   "cell_type": "code",
   "execution_count": null,
   "id": "d187e750",
   "metadata": {},
   "outputs": [],
   "source": [
    "(ds_tokens_known['instructed_to_lie']*1.0).mean()"
   ]
  },
  {
   "cell_type": "code",
   "execution_count": null,
   "id": "ffa14959",
   "metadata": {},
   "outputs": [],
   "source": [
    "# save\n",
    "ts = pd.Timestamp.now().strftime('%Y%m%d-%H%M%S')\n",
    "f = Path(f\"../data/extracted_prompts_{ts}\")\n",
    "print(f)\n",
    "ds_tokens_known.info.description = json.dumps(cfg.__dict__)\n",
    "ds_tokens_known.save_to_disk(str(f))"
   ]
  },
  {
   "cell_type": "code",
   "execution_count": null,
   "id": "ab9afec6",
   "metadata": {},
   "outputs": [],
   "source": [
    "# push to hf https://huggingface.co/docs/datasets/v2.20.0/en/package_reference/main_classes#datasets.Dataset.push_to_hub\n",
    "ds_tokens_known.push_to_hub('wassname/abliterated-llama-known-prompts', split='train', config_name='')"
   ]
  },
  {
   "cell_type": "code",
   "execution_count": null,
   "id": "f977d4cd",
   "metadata": {},
   "outputs": [],
   "source": [
    "# TODO see if it will also lie on an answer..."
   ]
  },
  {
   "cell_type": "markdown",
   "id": "d63249bf",
   "metadata": {},
   "source": [
    "## QC"
   ]
  },
  {
   "cell_type": "code",
   "execution_count": null,
   "id": "acd63799",
   "metadata": {},
   "outputs": [],
   "source": [
    "# # which source datasets did the known questions come from?\n",
    "# df_ds = ds_tokens_known.to_pandas()\n",
    "# df_ds[['ds_string','sys_instr_name']].value_counts()"
   ]
  },
  {
   "cell_type": "code",
   "execution_count": null,
   "id": "7b2f97d4",
   "metadata": {},
   "outputs": [],
   "source": [
    "# df_metadata = ds_tokens.select_columns(['ds_string', 'sys_instr_name', 'answer_choices', 'label_true', 'instructed_to_lie']).to_pandas()"
   ]
  },
  {
   "cell_type": "code",
   "execution_count": null,
   "id": "994d6e9a",
   "metadata": {},
   "outputs": [],
   "source": [
    "# # QC a batch\n",
    "# ss = tokenizer.batch_decode(batch['input_ids'], skip_special_tokens=False)\n",
    "# for s in ss:\n",
    "#     s = s.replace(tokenizer.eos_token, '')\n",
    "#     s = s.replace('<|start_header_id|>', '\\n[')\n",
    "#     s = s.replace('<|end_header_id|>', ']')\n",
    "#     tokenizer.chat_template\n",
    "#     print('---')\n",
    "#     print(s)"
   ]
  }
 ],
 "metadata": {
  "kernelspec": {
   "display_name": "Python 3.10.4 64-bit",
   "language": "python",
   "name": "python3"
  },
  "language_info": {
   "codemirror_mode": {
    "name": "ipython",
    "version": 3
   },
   "file_extension": ".py",
   "mimetype": "text/x-python",
   "name": "python",
   "nbconvert_exporter": "python",
   "pygments_lexer": "ipython3",
   "version": "3.10.12"
  },
  "toc": {
   "base_numbering": 1,
   "nav_menu": {},
   "number_sections": true,
   "sideBar": true,
   "skip_h1_title": false,
   "title_cell": "Table of Contents",
   "title_sidebar": "Contents",
   "toc_cell": false,
   "toc_position": {},
   "toc_section_display": true,
   "toc_window_display": false
  },
  "vscode": {
   "interpreter": {
    "hash": "916dbcbb3f70747c44a77c7bcd40155683ae19c65e1c03b4aa3499c5328201f1"
   }
  }
 },
 "nbformat": 4,
 "nbformat_minor": 5
}
